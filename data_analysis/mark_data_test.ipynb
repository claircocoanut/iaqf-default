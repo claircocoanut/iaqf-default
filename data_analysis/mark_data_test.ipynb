{
 "cells": [
  {
   "cell_type": "code",
   "execution_count": 14,
   "outputs": [],
   "source": [
    "from itertools import product\n",
    "\n",
    "import pandas as pd\n",
    "import numpy as np\n",
    "import matplotlib.pyplot as plt\n",
    "\n",
    "from download_data import get_price, get_mpd, get_fx, get_commodity, get_bond, get_inflation\n",
    "from data_analysis.explore_data import (\n",
    "    calc_rolling_stat,\n",
    "    merge_prob_stat,\n",
    "    rename_stat_df,\n",
    "    eval_large_change_prob,\n",
    "    plot_change_scatter,\n",
    "    prep_regression_stat,\n",
    "    compare_regressions,\n",
    "    compare_regression_eval\n",
    ")"
   ],
   "metadata": {
    "collapsed": false,
    "ExecuteTime": {
     "end_time": "2024-02-19T01:43:37.818153Z",
     "start_time": "2024-02-19T01:43:37.817372Z"
    }
   },
   "id": "c1e10d9a55bf6a11"
  },
  {
   "cell_type": "code",
   "execution_count": 15,
   "outputs": [],
   "source": [
    "mpd = get_mpd()\n",
    "start_date, end_date = mpd[\"idt\"].min(), mpd[\"idt\"].max()\n",
    "\n",
    "equity = get_price(use_cache=True, tickers=[\"BAC\", \"C\", \"IYR\", \"SPY\"], \n",
    "                  start_date=start_date, \n",
    "                  end_date=end_date, \n",
    "                  )\n",
    "\n",
    "fx = get_fx(use_cache=True, tickers=[\"GBP\", \"EUR\", \"JPY\"],\n",
    "            start_date=start_date,\n",
    "            end_date=end_date,\n",
    "            )\n",
    "\n",
    "commodity = get_commodity(use_cache=True, \n",
    "                          start_date=start_date, \n",
    "                          end_date=end_date,)\n",
    "\n",
    "inflation = get_inflation()\n",
    "bond = get_bond(use_cache=True)"
   ],
   "metadata": {
    "collapsed": false,
    "ExecuteTime": {
     "end_time": "2024-02-19T01:43:38.485242Z",
     "start_time": "2024-02-19T01:43:37.840628Z"
    }
   },
   "id": "initial_id"
  },
  {
   "cell_type": "code",
   "execution_count": 16,
   "outputs": [
    {
     "data": {
      "text/plain": "array(['bac', 'citi', 'corn', 'euro', 'gold', 'infl1y', 'infl2y',\n       'infl5y', 'iyr', 'LR3y3m', 'LR5y3m', 'oil', 'pound', 'silver',\n       'soybns', 'sp12m', 'sp6m', 'tr10yr', 'tr5yr', 'wheat', 'yen'],\n      dtype=object)"
     },
     "execution_count": 16,
     "metadata": {},
     "output_type": "execute_result"
    }
   ],
   "source": [
    "mpd[\"market\"].unique()"
   ],
   "metadata": {
    "collapsed": false,
    "ExecuteTime": {
     "end_time": "2024-02-19T01:43:38.485791Z",
     "start_time": "2024-02-19T01:43:38.481057Z"
    }
   },
   "id": "227f9c44b44d1f23"
  },
  {
   "cell_type": "code",
   "execution_count": 17,
   "outputs": [
    {
     "name": "stderr",
     "output_type": "stream",
     "text": [
      "\n",
      "KeyboardInterrupt\n",
      "\n"
     ]
    }
   ],
   "source": [
    "stat = calc_rolling_stat(\n",
    "    pd.concat([fx, equity, commodity, bond, inflation], axis=1), \n",
    "    month=6\n",
    ")\n",
    "stat"
   ],
   "metadata": {
    "collapsed": false,
    "ExecuteTime": {
     "end_time": "2024-02-19T01:43:43.048887Z",
     "start_time": "2024-02-19T01:43:38.483697Z"
    }
   },
   "id": "e807d86dfac21488"
  },
  {
   "cell_type": "code",
   "execution_count": null,
   "outputs": [],
   "source": [
    "market_list = [\"bac\", \"citi\", \"iyr\", \"sp6m\", \"sp12m\", \"euro\", \"pound\", \"yen\"] + ['silver','corn', 'soybns','gold','wheat'] + [\"infl1y\", \"infl2y\", \"infl5y\", \"tr5yr\", \"tr10yr\"] \n",
    "ticker_list = [\"BAC\", \"C\", \"IYR\", \"SPY\", \"SPY\", \"GBP\", \"EUR\", \"JPY\"] + ['silver','corn1', 'soybean','gold','wheat'] + ['EXPINF1YR', 'EXPINF2YR', 'EXPINF5YR', '5YR_Price', '10YR_Price']\n",
    "stat_rename = rename_stat_df(stat, dict(zip(market_list, ticker_list)))"
   ],
   "metadata": {
    "collapsed": false,
    "ExecuteTime": {
     "start_time": "2024-02-19T01:43:43.053599Z"
    }
   },
   "id": "52ae76d7a037e387"
  },
  {
   "cell_type": "code",
   "execution_count": null,
   "outputs": [],
   "source": [
    "df = merge_prob_stat(stat_rename, mpd)"
   ],
   "metadata": {
    "collapsed": false,
    "ExecuteTime": {
     "end_time": "2024-02-19T01:43:43.060953Z",
     "start_time": "2024-02-19T01:43:43.058403Z"
    }
   },
   "id": "609566ac89e71e8d"
  },
  {
   "cell_type": "code",
   "execution_count": null,
   "outputs": [],
   "source": [
    "import numpy as np\n",
    "from scipy.stats import chi2\n",
    "\n",
    "def kupiec_pof_test(total_observations, exceedances, confidence_level: float = 0.99):\n",
    "    \"\"\"\n",
    "    Calculate the Kupiec POF test statistic.\n",
    "\n",
    "    Parameters:\n",
    "    total_observations (int): Total number of observations in the dataset.\n",
    "    exceedances (int): Number of observed exceedances (VaR failures).\n",
    "    confidence_level (float): The confidence level used for the VaR calculation (e.g., 0.99 for 99%).\n",
    "\n",
    "    Returns:\n",
    "    float: The Kupiec POF test statistic.\n",
    "    float: The p-value from the chi-squared distribution.\n",
    "    \"\"\"\n",
    "    # Probability of exceedance\n",
    "    p = 1 - confidence_level\n",
    "\n",
    "    # Expected number of exceedances\n",
    "    expected_exceedances = total_observations * p\n",
    "\n",
    "    # Actual proportion of exceedances\n",
    "    proportion_exceedances = exceedances / total_observations\n",
    "\n",
    "    # Kupiec test statistic\n",
    "    LR_POF = -2 * np.log(((1 - p) ** (total_observations - exceedances)) * (p ** exceedances)) + 2 * np.log(((1 - proportion_exceedances) ** (total_observations - exceedances)) * (proportion_exceedances ** exceedances))\n",
    "\n",
    "    # Calculate the p-value\n",
    "    p_value = 1 - chi2.cdf(LR_POF, 1)\n",
    "\n",
    "    return LR_POF, p_value\n",
    "\n",
    "# Example usage\n",
    "total_observations = 250  # Total number of days in the dataset\n",
    "exceedances = 5  # Number of days when the loss exceeded the VaR\n",
    "confidence_level = 0.99  # 99% confidence level\n",
    "\n",
    "LR_POF, p_value = kupiec_pof_test(total_observations, exceedances, confidence_level)\n",
    "\n",
    "print(f\"Kupiec POF Test Statistic: {LR_POF}\")\n",
    "print(f\"P-Value: {p_value}\")"
   ],
   "metadata": {
    "collapsed": false,
    "ExecuteTime": {
     "end_time": "2024-02-19T01:43:43.061377Z",
     "start_time": "2024-02-19T01:43:43.061121Z"
    }
   },
   "id": "4a1d68da5f7ba8bf"
  },
  {
   "cell_type": "code",
   "execution_count": 24,
   "outputs": [
    {
     "name": "stderr",
     "output_type": "stream",
     "text": [
      "/Users/claircui/anaconda3/lib/python3.11/site-packages/pandas/core/arraylike.py:396: RuntimeWarning: divide by zero encountered in log\n",
      "  result = getattr(ufunc, method)(*inputs, **kwargs)\n",
      "/Users/claircui/anaconda3/lib/python3.11/site-packages/pandas/core/arraylike.py:396: RuntimeWarning: divide by zero encountered in log\n",
      "  result = getattr(ufunc, method)(*inputs, **kwargs)\n",
      "/Users/claircui/anaconda3/lib/python3.11/site-packages/pandas/core/arraylike.py:396: RuntimeWarning: divide by zero encountered in log\n",
      "  result = getattr(ufunc, method)(*inputs, **kwargs)\n",
      "/Users/claircui/anaconda3/lib/python3.11/site-packages/pandas/core/arraylike.py:396: RuntimeWarning: divide by zero encountered in log\n",
      "  result = getattr(ufunc, method)(*inputs, **kwargs)\n",
      "/Users/claircui/anaconda3/lib/python3.11/site-packages/pandas/core/arraylike.py:396: RuntimeWarning: divide by zero encountered in log\n",
      "  result = getattr(ufunc, method)(*inputs, **kwargs)\n",
      "/Users/claircui/anaconda3/lib/python3.11/site-packages/pandas/core/arraylike.py:396: RuntimeWarning: divide by zero encountered in log\n",
      "  result = getattr(ufunc, method)(*inputs, **kwargs)\n",
      "/Users/claircui/anaconda3/lib/python3.11/site-packages/pandas/core/arraylike.py:396: RuntimeWarning: divide by zero encountered in log\n",
      "  result = getattr(ufunc, method)(*inputs, **kwargs)\n",
      "/Users/claircui/anaconda3/lib/python3.11/site-packages/pandas/core/arraylike.py:396: RuntimeWarning: divide by zero encountered in log\n",
      "  result = getattr(ufunc, method)(*inputs, **kwargs)\n",
      "/Users/claircui/anaconda3/lib/python3.11/site-packages/pandas/core/arraylike.py:396: RuntimeWarning: divide by zero encountered in log\n",
      "  result = getattr(ufunc, method)(*inputs, **kwargs)\n",
      "/Users/claircui/anaconda3/lib/python3.11/site-packages/pandas/core/arraylike.py:396: RuntimeWarning: divide by zero encountered in log\n",
      "  result = getattr(ufunc, method)(*inputs, **kwargs)\n",
      "/Users/claircui/anaconda3/lib/python3.11/site-packages/pandas/core/arraylike.py:396: RuntimeWarning: divide by zero encountered in log\n",
      "  result = getattr(ufunc, method)(*inputs, **kwargs)\n",
      "/Users/claircui/anaconda3/lib/python3.11/site-packages/pandas/core/arraylike.py:396: RuntimeWarning: divide by zero encountered in log\n",
      "  result = getattr(ufunc, method)(*inputs, **kwargs)\n",
      "/Users/claircui/anaconda3/lib/python3.11/site-packages/pandas/core/arraylike.py:396: RuntimeWarning: divide by zero encountered in log\n",
      "  result = getattr(ufunc, method)(*inputs, **kwargs)\n",
      "/Users/claircui/anaconda3/lib/python3.11/site-packages/pandas/core/arraylike.py:396: RuntimeWarning: divide by zero encountered in log\n",
      "  result = getattr(ufunc, method)(*inputs, **kwargs)\n",
      "/Users/claircui/anaconda3/lib/python3.11/site-packages/pandas/core/arraylike.py:396: RuntimeWarning: divide by zero encountered in log\n",
      "  result = getattr(ufunc, method)(*inputs, **kwargs)\n",
      "/Users/claircui/anaconda3/lib/python3.11/site-packages/pandas/core/arraylike.py:396: RuntimeWarning: divide by zero encountered in log\n",
      "  result = getattr(ufunc, method)(*inputs, **kwargs)\n",
      "/Users/claircui/anaconda3/lib/python3.11/site-packages/pandas/core/arraylike.py:396: RuntimeWarning: divide by zero encountered in log\n",
      "  result = getattr(ufunc, method)(*inputs, **kwargs)\n",
      "/Users/claircui/anaconda3/lib/python3.11/site-packages/pandas/core/arraylike.py:396: RuntimeWarning: divide by zero encountered in log\n",
      "  result = getattr(ufunc, method)(*inputs, **kwargs)\n"
     ]
    },
    {
     "data": {
      "text/plain": "       hit_ratio                     kupiec_stat                          \\\n         p10_hit   p50_hit   p90_hit     p10_hit     p50_hit     p90_hit   \nbac     0.877076  0.586379  0.209302         inf         inf  552.381680   \nciti    0.901993  0.528239  0.162791         inf         inf  377.844635   \niyr     0.941924  0.627949  0.161525         inf         inf  341.714277   \nsp6m    0.977712  0.619614  0.020802         inf         inf    6.049118   \nsp12m   0.991085  0.566122  0.000000         inf         inf   13.527752   \neuro    0.903169  0.503521  0.213028         inf         inf  535.054949   \npound   0.943662  0.552817  0.160211         inf         inf  347.866225   \nyen     0.917254  0.577465  0.198944         inf         inf  483.124634   \nsilver  0.957935  0.443595  0.072658         inf         inf   87.300521   \ncorn    0.967619  0.481905  0.043810         inf         inf   33.067444   \nsoybns  0.960076  0.513308  0.076046         inf         inf   95.190804   \ngold    0.975285  0.587452  0.076046         inf         inf   95.190804   \nwheat   0.986692  0.528517  0.041825         inf         inf   30.024097   \ninfl1y  0.452436  0.452436  0.450116         inf         inf         inf   \ninfl2y  0.570175  0.342105  0.318713         inf  642.715812  580.497771   \ninfl5y  0.407738  0.385417  0.336310         inf         inf         inf   \ntr5yr   0.856540  0.453586  0.158228         inf         inf  284.785583   \ntr10yr  0.815261  0.451807  0.164659         inf         inf  318.084206   \n\n       kupiec_pvalue                     \n                   0    1             2  \nbac              0.0  0.0  0.000000e+00  \nciti             0.0  0.0  0.000000e+00  \niyr              0.0  0.0  0.000000e+00  \nsp6m             0.0  0.0  1.391325e-02  \nsp12m            0.0  0.0  2.350614e-04  \neuro             0.0  0.0  0.000000e+00  \npound            0.0  0.0  0.000000e+00  \nyen              0.0  0.0  0.000000e+00  \nsilver           0.0  0.0  0.000000e+00  \ncorn             0.0  0.0  8.901680e-09  \nsoybns           0.0  0.0  0.000000e+00  \ngold             0.0  0.0  0.000000e+00  \nwheat            0.0  0.0  4.267105e-08  \ninfl1y           0.0  0.0  0.000000e+00  \ninfl2y           0.0  0.0  0.000000e+00  \ninfl5y           0.0  0.0  0.000000e+00  \ntr5yr            0.0  0.0  0.000000e+00  \ntr10yr           0.0  0.0  0.000000e+00  ",
      "text/html": "<div>\n<style scoped>\n    .dataframe tbody tr th:only-of-type {\n        vertical-align: middle;\n    }\n\n    .dataframe tbody tr th {\n        vertical-align: top;\n    }\n\n    .dataframe thead tr th {\n        text-align: left;\n    }\n</style>\n<table border=\"1\" class=\"dataframe\">\n  <thead>\n    <tr>\n      <th></th>\n      <th colspan=\"3\" halign=\"left\">hit_ratio</th>\n      <th colspan=\"3\" halign=\"left\">kupiec_stat</th>\n      <th colspan=\"3\" halign=\"left\">kupiec_pvalue</th>\n    </tr>\n    <tr>\n      <th></th>\n      <th>p10_hit</th>\n      <th>p50_hit</th>\n      <th>p90_hit</th>\n      <th>p10_hit</th>\n      <th>p50_hit</th>\n      <th>p90_hit</th>\n      <th>0</th>\n      <th>1</th>\n      <th>2</th>\n    </tr>\n  </thead>\n  <tbody>\n    <tr>\n      <th>bac</th>\n      <td>0.877076</td>\n      <td>0.586379</td>\n      <td>0.209302</td>\n      <td>inf</td>\n      <td>inf</td>\n      <td>552.381680</td>\n      <td>0.0</td>\n      <td>0.0</td>\n      <td>0.000000e+00</td>\n    </tr>\n    <tr>\n      <th>citi</th>\n      <td>0.901993</td>\n      <td>0.528239</td>\n      <td>0.162791</td>\n      <td>inf</td>\n      <td>inf</td>\n      <td>377.844635</td>\n      <td>0.0</td>\n      <td>0.0</td>\n      <td>0.000000e+00</td>\n    </tr>\n    <tr>\n      <th>iyr</th>\n      <td>0.941924</td>\n      <td>0.627949</td>\n      <td>0.161525</td>\n      <td>inf</td>\n      <td>inf</td>\n      <td>341.714277</td>\n      <td>0.0</td>\n      <td>0.0</td>\n      <td>0.000000e+00</td>\n    </tr>\n    <tr>\n      <th>sp6m</th>\n      <td>0.977712</td>\n      <td>0.619614</td>\n      <td>0.020802</td>\n      <td>inf</td>\n      <td>inf</td>\n      <td>6.049118</td>\n      <td>0.0</td>\n      <td>0.0</td>\n      <td>1.391325e-02</td>\n    </tr>\n    <tr>\n      <th>sp12m</th>\n      <td>0.991085</td>\n      <td>0.566122</td>\n      <td>0.000000</td>\n      <td>inf</td>\n      <td>inf</td>\n      <td>13.527752</td>\n      <td>0.0</td>\n      <td>0.0</td>\n      <td>2.350614e-04</td>\n    </tr>\n    <tr>\n      <th>euro</th>\n      <td>0.903169</td>\n      <td>0.503521</td>\n      <td>0.213028</td>\n      <td>inf</td>\n      <td>inf</td>\n      <td>535.054949</td>\n      <td>0.0</td>\n      <td>0.0</td>\n      <td>0.000000e+00</td>\n    </tr>\n    <tr>\n      <th>pound</th>\n      <td>0.943662</td>\n      <td>0.552817</td>\n      <td>0.160211</td>\n      <td>inf</td>\n      <td>inf</td>\n      <td>347.866225</td>\n      <td>0.0</td>\n      <td>0.0</td>\n      <td>0.000000e+00</td>\n    </tr>\n    <tr>\n      <th>yen</th>\n      <td>0.917254</td>\n      <td>0.577465</td>\n      <td>0.198944</td>\n      <td>inf</td>\n      <td>inf</td>\n      <td>483.124634</td>\n      <td>0.0</td>\n      <td>0.0</td>\n      <td>0.000000e+00</td>\n    </tr>\n    <tr>\n      <th>silver</th>\n      <td>0.957935</td>\n      <td>0.443595</td>\n      <td>0.072658</td>\n      <td>inf</td>\n      <td>inf</td>\n      <td>87.300521</td>\n      <td>0.0</td>\n      <td>0.0</td>\n      <td>0.000000e+00</td>\n    </tr>\n    <tr>\n      <th>corn</th>\n      <td>0.967619</td>\n      <td>0.481905</td>\n      <td>0.043810</td>\n      <td>inf</td>\n      <td>inf</td>\n      <td>33.067444</td>\n      <td>0.0</td>\n      <td>0.0</td>\n      <td>8.901680e-09</td>\n    </tr>\n    <tr>\n      <th>soybns</th>\n      <td>0.960076</td>\n      <td>0.513308</td>\n      <td>0.076046</td>\n      <td>inf</td>\n      <td>inf</td>\n      <td>95.190804</td>\n      <td>0.0</td>\n      <td>0.0</td>\n      <td>0.000000e+00</td>\n    </tr>\n    <tr>\n      <th>gold</th>\n      <td>0.975285</td>\n      <td>0.587452</td>\n      <td>0.076046</td>\n      <td>inf</td>\n      <td>inf</td>\n      <td>95.190804</td>\n      <td>0.0</td>\n      <td>0.0</td>\n      <td>0.000000e+00</td>\n    </tr>\n    <tr>\n      <th>wheat</th>\n      <td>0.986692</td>\n      <td>0.528517</td>\n      <td>0.041825</td>\n      <td>inf</td>\n      <td>inf</td>\n      <td>30.024097</td>\n      <td>0.0</td>\n      <td>0.0</td>\n      <td>4.267105e-08</td>\n    </tr>\n    <tr>\n      <th>infl1y</th>\n      <td>0.452436</td>\n      <td>0.452436</td>\n      <td>0.450116</td>\n      <td>inf</td>\n      <td>inf</td>\n      <td>inf</td>\n      <td>0.0</td>\n      <td>0.0</td>\n      <td>0.000000e+00</td>\n    </tr>\n    <tr>\n      <th>infl2y</th>\n      <td>0.570175</td>\n      <td>0.342105</td>\n      <td>0.318713</td>\n      <td>inf</td>\n      <td>642.715812</td>\n      <td>580.497771</td>\n      <td>0.0</td>\n      <td>0.0</td>\n      <td>0.000000e+00</td>\n    </tr>\n    <tr>\n      <th>infl5y</th>\n      <td>0.407738</td>\n      <td>0.385417</td>\n      <td>0.336310</td>\n      <td>inf</td>\n      <td>inf</td>\n      <td>inf</td>\n      <td>0.0</td>\n      <td>0.0</td>\n      <td>0.000000e+00</td>\n    </tr>\n    <tr>\n      <th>tr5yr</th>\n      <td>0.856540</td>\n      <td>0.453586</td>\n      <td>0.158228</td>\n      <td>inf</td>\n      <td>inf</td>\n      <td>284.785583</td>\n      <td>0.0</td>\n      <td>0.0</td>\n      <td>0.000000e+00</td>\n    </tr>\n    <tr>\n      <th>tr10yr</th>\n      <td>0.815261</td>\n      <td>0.451807</td>\n      <td>0.164659</td>\n      <td>inf</td>\n      <td>inf</td>\n      <td>318.084206</td>\n      <td>0.0</td>\n      <td>0.0</td>\n      <td>0.000000e+00</td>\n    </tr>\n  </tbody>\n</table>\n</div>"
     },
     "execution_count": 24,
     "metadata": {},
     "output_type": "execute_result"
    }
   ],
   "source": [
    "def calc_hit_rate(df: pd.DataFrame, idx: list[str] = market_list):\n",
    "    p_col = [\"p10\", \"p50\", \"p90\"]\n",
    "    for c in p_col:\n",
    "        df.loc[:, f\"{c}_hit\"] = df[c] < df[\"ret\"]\n",
    "        \n",
    "    hit_ratio = {}\n",
    "    k_test = {}\n",
    "    k_pvalue = {}\n",
    "    for name, g in df.filter(regex=\"_hit$\").groupby(\"market\"):\n",
    "        hit_ratio[name] = g.mean()\n",
    "        k_test[name], k_pvalue[name] = kupiec_pof_test(len(g), g.sum())\n",
    "    \n",
    "    \n",
    "    df = pd.concat([pd.DataFrame(hit_ratio), \n",
    "                    pd.DataFrame(k_test), \n",
    "                    pd.DataFrame(k_pvalue)], keys=[\"hit_ratio\", \"kupiec_stat\", \"kupiec_pvalue\"]).T\n",
    "    return df.reindex(idx)\n",
    "\n",
    "calc_hit_rate(df)"
   ],
   "metadata": {
    "collapsed": false,
    "ExecuteTime": {
     "end_time": "2024-02-19T01:50:34.879087Z",
     "start_time": "2024-02-19T01:50:34.772363Z"
    }
   },
   "id": "9cfc658fcb03f967"
  },
  {
   "cell_type": "code",
   "execution_count": 23,
   "outputs": [
    {
     "data": {
      "text/plain": "DatetimeIndex(['2010-01-15', '2010-01-29', '2010-02-12', '2010-02-26',\n               '2010-03-15', '2010-03-31', '2010-04-15', '2010-04-30',\n               '2010-05-14', '2010-05-28',\n               ...\n               '2009-07-15', '2009-07-31', '2009-08-14', '2009-08-31',\n               '2009-09-15', '2009-09-30', '2009-10-30', '2009-11-13',\n               '2009-11-30', '2009-12-15'],\n              dtype='datetime64[ns]', name='idt', length=877, freq=None)"
     },
     "execution_count": 23,
     "metadata": {},
     "output_type": "execute_result"
    }
   ],
   "source": [
    "df.index.get_level_values(\"idt\").unique()"
   ],
   "metadata": {
    "collapsed": false,
    "ExecuteTime": {
     "end_time": "2024-02-19T01:44:42.700330Z",
     "start_time": "2024-02-19T01:44:42.680931Z"
    }
   },
   "id": "c70373172d540e47"
  },
  {
   "cell_type": "code",
   "execution_count": null,
   "outputs": [],
   "source": [],
   "metadata": {
    "collapsed": false
   },
   "id": "f02a8701d143525"
  }
 ],
 "metadata": {
  "kernelspec": {
   "display_name": "Python 3",
   "language": "python",
   "name": "python3"
  },
  "language_info": {
   "codemirror_mode": {
    "name": "ipython",
    "version": 2
   },
   "file_extension": ".py",
   "mimetype": "text/x-python",
   "name": "python",
   "nbconvert_exporter": "python",
   "pygments_lexer": "ipython2",
   "version": "2.7.6"
  }
 },
 "nbformat": 4,
 "nbformat_minor": 5
}
