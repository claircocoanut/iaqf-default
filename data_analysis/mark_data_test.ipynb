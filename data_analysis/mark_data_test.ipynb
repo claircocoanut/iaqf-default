{
 "cells": [
  {
   "cell_type": "code",
   "execution_count": 1,
   "outputs": [],
   "source": [
    "from itertools import product\n",
    "\n",
    "import pandas as pd\n",
    "import numpy as np\n",
    "import matplotlib.pyplot as plt\n",
    "\n",
    "from download_data import get_price, get_mpd, get_fx\n",
    "from data_analysis.explore_data import (\n",
    "    calc_rolling_stat,\n",
    "    merge_prob_stat,\n",
    "    rename_stat_df,\n",
    "    eval_large_change_prob,\n",
    "    plot_change_scatter,\n",
    "    prep_regression_stat,\n",
    "    compare_regressions,\n",
    "    compare_regression_eval\n",
    ")"
   ],
   "metadata": {
    "collapsed": false,
    "ExecuteTime": {
     "end_time": "2024-02-12T02:33:11.127562Z",
     "start_time": "2024-02-12T02:33:10.003865Z"
    }
   },
   "id": "c1e10d9a55bf6a11"
  },
  {
   "cell_type": "code",
   "execution_count": 2,
   "outputs": [],
   "source": [
    "mpd = get_mpd()\n",
    "start_date, end_date = mpd[\"idt\"].min(), mpd[\"idt\"].max()\n",
    "\n",
    "equity = get_price(tickers=[\"BAC\", \"C\", \"IYR\", \"SPY\"], \n",
    "                  start_date=start_date, \n",
    "                  end_date=end_date, \n",
    "                  use_cache=False)\n",
    "\n",
    "fx = get_fx(tickers=[\"GBP\", \"EUR\", \"JPY\"],\n",
    "            start_date=start_date,\n",
    "            end_date=end_date,\n",
    "            use_cache=False)"
   ],
   "metadata": {
    "collapsed": false,
    "ExecuteTime": {
     "end_time": "2024-02-12T02:33:16.376408Z",
     "start_time": "2024-02-12T02:33:11.128960Z"
    }
   },
   "id": "initial_id"
  },
  {
   "cell_type": "code",
   "execution_count": 18,
   "outputs": [],
   "source": [
    "stat = calc_rolling_stat(pd.concat([fx, equity], axis=1), month=6)\n",
    "market_list = [\"bac\", \"citi\", \"iyr\", \"sp6m\", \"sp12m\", \"euro\", \"pound\", \"yen\"]\n",
    "ticker_list = [\"BAC\", \"C\", \"IYR\", \"SPY\", \"SPY\", \"GBP\", \"EUR\", \"JPY\"]\n",
    "stat_rename = rename_stat_df(stat, dict(zip(market_list, ticker_list)))"
   ],
   "metadata": {
    "collapsed": false,
    "ExecuteTime": {
     "end_time": "2024-02-12T02:34:48.633170Z",
     "start_time": "2024-02-12T02:34:44.174092Z"
    }
   },
   "id": "e807d86dfac21488"
  },
  {
   "cell_type": "code",
   "execution_count": 23,
   "outputs": [],
   "source": [
    "df = merge_prob_stat(stat_rename, mpd)"
   ],
   "metadata": {
    "collapsed": false,
    "ExecuteTime": {
     "end_time": "2024-02-12T02:40:18.635806Z",
     "start_time": "2024-02-12T02:40:18.189535Z"
    }
   },
   "id": "609566ac89e71e8d"
  },
  {
   "cell_type": "code",
   "execution_count": 36,
   "outputs": [
    {
     "data": {
      "text/plain": "         p10_hit   p50_hit   p90_hit\nmarket                              \nbac     0.122924  0.413621  0.790698\nciti    0.098007  0.471761  0.837209\niyr     0.058076  0.372051  0.838475\nsp6m    0.022288  0.380386  0.979198\nsp12m   0.008915  0.433878  1.000000\neuro    0.096831  0.496479  0.786972\npound   0.056338  0.447183  0.839789\nyen     0.082746  0.422535  0.801056",
      "text/html": "<div>\n<style scoped>\n    .dataframe tbody tr th:only-of-type {\n        vertical-align: middle;\n    }\n\n    .dataframe tbody tr th {\n        vertical-align: top;\n    }\n\n    .dataframe thead th {\n        text-align: right;\n    }\n</style>\n<table border=\"1\" class=\"dataframe\">\n  <thead>\n    <tr style=\"text-align: right;\">\n      <th></th>\n      <th>p10_hit</th>\n      <th>p50_hit</th>\n      <th>p90_hit</th>\n    </tr>\n    <tr>\n      <th>market</th>\n      <th></th>\n      <th></th>\n      <th></th>\n    </tr>\n  </thead>\n  <tbody>\n    <tr>\n      <th>bac</th>\n      <td>0.122924</td>\n      <td>0.413621</td>\n      <td>0.790698</td>\n    </tr>\n    <tr>\n      <th>citi</th>\n      <td>0.098007</td>\n      <td>0.471761</td>\n      <td>0.837209</td>\n    </tr>\n    <tr>\n      <th>iyr</th>\n      <td>0.058076</td>\n      <td>0.372051</td>\n      <td>0.838475</td>\n    </tr>\n    <tr>\n      <th>sp6m</th>\n      <td>0.022288</td>\n      <td>0.380386</td>\n      <td>0.979198</td>\n    </tr>\n    <tr>\n      <th>sp12m</th>\n      <td>0.008915</td>\n      <td>0.433878</td>\n      <td>1.000000</td>\n    </tr>\n    <tr>\n      <th>euro</th>\n      <td>0.096831</td>\n      <td>0.496479</td>\n      <td>0.786972</td>\n    </tr>\n    <tr>\n      <th>pound</th>\n      <td>0.056338</td>\n      <td>0.447183</td>\n      <td>0.839789</td>\n    </tr>\n    <tr>\n      <th>yen</th>\n      <td>0.082746</td>\n      <td>0.422535</td>\n      <td>0.801056</td>\n    </tr>\n  </tbody>\n</table>\n</div>"
     },
     "execution_count": 36,
     "metadata": {},
     "output_type": "execute_result"
    }
   ],
   "source": [
    "def calc_hit_rate(df: pd.DataFrame, idx: list[str]=market_list):\n",
    "    p_col = [\"p10\", \"p50\", \"p90\"]\n",
    "    for c in p_col:\n",
    "        df.loc[:, f\"{c}_hit\"] = df[c] > df[\"ret\"]\n",
    "    return df.filter(regex=\"_hit$\").groupby(\"market\").mean().reindex(market_list)\n",
    "\n",
    "calc_hit_rate(df)"
   ],
   "metadata": {
    "collapsed": false,
    "ExecuteTime": {
     "end_time": "2024-02-12T02:45:44.554666Z",
     "start_time": "2024-02-12T02:45:44.532615Z"
    }
   },
   "id": "9cfc658fcb03f967"
  },
  {
   "cell_type": "code",
   "execution_count": null,
   "outputs": [],
   "source": [],
   "metadata": {
    "collapsed": false
   },
   "id": "4a1d68da5f7ba8bf"
  }
 ],
 "metadata": {
  "kernelspec": {
   "display_name": "Python 3",
   "language": "python",
   "name": "python3"
  },
  "language_info": {
   "codemirror_mode": {
    "name": "ipython",
    "version": 2
   },
   "file_extension": ".py",
   "mimetype": "text/x-python",
   "name": "python",
   "nbconvert_exporter": "python",
   "pygments_lexer": "ipython2",
   "version": "2.7.6"
  }
 },
 "nbformat": 4,
 "nbformat_minor": 5
}
