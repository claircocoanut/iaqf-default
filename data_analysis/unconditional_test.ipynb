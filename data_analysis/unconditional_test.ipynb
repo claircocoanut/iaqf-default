{
 "cells": [
  {
   "cell_type": "code",
   "execution_count": 1,
   "outputs": [],
   "source": [
    "from itertools import product\n",
    "\n",
    "import pandas as pd\n",
    "import numpy as np\n",
    "import matplotlib.pyplot as plt\n",
    "\n",
    "from download_data import get_price, get_mpd, get_fx, get_commodity, get_bond, get_inflation\n",
    "from data_analysis.explore_data import (\n",
    "    calc_rolling_stat,\n",
    "    merge_prob_stat,\n",
    "    rename_stat_df,\n",
    "    eval_large_change_prob,\n",
    "    plot_change_scatter,\n",
    "    prep_regression_stat,\n",
    "    compare_regressions,\n",
    "    compare_regression_eval\n",
    ")"
   ],
   "metadata": {
    "collapsed": false,
    "ExecuteTime": {
     "end_time": "2024-02-26T00:33:06.078869Z",
     "start_time": "2024-02-26T00:33:04.396448Z"
    }
   },
   "id": "c1e10d9a55bf6a11"
  },
  {
   "cell_type": "code",
   "execution_count": 2,
   "outputs": [],
   "source": [
    "mpd = get_mpd()\n",
    "start_date, end_date = mpd[\"idt\"].min(), mpd[\"idt\"].max()\n",
    "\n",
    "equity = get_price(use_cache=False, tickers=[\"BAC\", \"C\", \"IYR\", \"SPY\"], \n",
    "                  start_date=start_date, \n",
    "                  end_date=end_date, \n",
    "                  )\n",
    "\n",
    "fx = get_fx(use_cache=True, tickers=[\"GBP\", \"EUR\", \"JPY\"],\n",
    "            start_date=start_date,\n",
    "            end_date=end_date,\n",
    "            )\n",
    "\n",
    "commodity = get_commodity(use_cache=True, \n",
    "                          start_date=start_date, \n",
    "                          end_date=end_date,)\n",
    "\n",
    "inflation = get_inflation()\n",
    "bond = get_bond(use_cache=True)"
   ],
   "metadata": {
    "collapsed": false,
    "ExecuteTime": {
     "end_time": "2024-02-26T00:33:09.715860Z",
     "start_time": "2024-02-26T00:33:06.078405Z"
    }
   },
   "id": "initial_id"
  },
  {
   "cell_type": "code",
   "execution_count": 3,
   "outputs": [
    {
     "data": {
      "text/plain": "array(['bac', 'citi', 'corn', 'euro', 'gold', 'infl1y', 'infl2y',\n       'infl5y', 'iyr', 'LR3y3m', 'LR5y3m', 'oil', 'pound', 'silver',\n       'soybns', 'sp12m', 'sp6m', 'tr10yr', 'tr5yr', 'wheat', 'yen'],\n      dtype=object)"
     },
     "execution_count": 3,
     "metadata": {},
     "output_type": "execute_result"
    }
   ],
   "source": [
    "mpd[\"market\"].unique()"
   ],
   "metadata": {
    "collapsed": false,
    "ExecuteTime": {
     "end_time": "2024-02-26T00:33:09.717739Z",
     "start_time": "2024-02-26T00:33:09.715634Z"
    }
   },
   "id": "227f9c44b44d1f23"
  },
  {
   "cell_type": "code",
   "execution_count": 4,
   "outputs": [
    {
     "data": {
      "text/plain": "                            ret        vol   ret_max   ret_min\n10 YR      2003-01-02  0.005420   0.219611  0.218786 -0.197656\n10YR_Price 2003-01-02 -0.000904   1.993647  0.029876 -0.040575\n5 YR       2003-01-02  0.009852   0.224761  0.434735 -0.352441\n5YR_Price  2003-01-02 -0.000477   1.115278  0.014309 -0.026163\n7 YR       2003-01-02 -0.032790   0.219328  0.239779 -0.281251\n...                         ...        ...       ...       ...\ncorn2      2023-09-11 -0.074382   4.636325  0.013710 -0.074604\ngold       2023-09-11  0.055265  70.753250  0.084631 -0.050744\nsilver     2023-09-11 -0.010733   0.954580  0.096936 -0.103269\nsoybean    2023-09-11 -0.088117  31.870263  0.030203 -0.088117\nwheat      2023-09-11  0.029212  14.287630  0.059456 -0.058006\n\n[137693 rows x 4 columns]",
      "text/html": "<div>\n<style scoped>\n    .dataframe tbody tr th:only-of-type {\n        vertical-align: middle;\n    }\n\n    .dataframe tbody tr th {\n        vertical-align: top;\n    }\n\n    .dataframe thead th {\n        text-align: right;\n    }\n</style>\n<table border=\"1\" class=\"dataframe\">\n  <thead>\n    <tr style=\"text-align: right;\">\n      <th></th>\n      <th></th>\n      <th>ret</th>\n      <th>vol</th>\n      <th>ret_max</th>\n      <th>ret_min</th>\n    </tr>\n  </thead>\n  <tbody>\n    <tr>\n      <th>10 YR</th>\n      <th>2003-01-02</th>\n      <td>0.005420</td>\n      <td>0.219611</td>\n      <td>0.218786</td>\n      <td>-0.197656</td>\n    </tr>\n    <tr>\n      <th>10YR_Price</th>\n      <th>2003-01-02</th>\n      <td>-0.000904</td>\n      <td>1.993647</td>\n      <td>0.029876</td>\n      <td>-0.040575</td>\n    </tr>\n    <tr>\n      <th>5 YR</th>\n      <th>2003-01-02</th>\n      <td>0.009852</td>\n      <td>0.224761</td>\n      <td>0.434735</td>\n      <td>-0.352441</td>\n    </tr>\n    <tr>\n      <th>5YR_Price</th>\n      <th>2003-01-02</th>\n      <td>-0.000477</td>\n      <td>1.115278</td>\n      <td>0.014309</td>\n      <td>-0.026163</td>\n    </tr>\n    <tr>\n      <th>7 YR</th>\n      <th>2003-01-02</th>\n      <td>-0.032790</td>\n      <td>0.219328</td>\n      <td>0.239779</td>\n      <td>-0.281251</td>\n    </tr>\n    <tr>\n      <th>...</th>\n      <th>...</th>\n      <td>...</td>\n      <td>...</td>\n      <td>...</td>\n      <td>...</td>\n    </tr>\n    <tr>\n      <th>corn2</th>\n      <th>2023-09-11</th>\n      <td>-0.074382</td>\n      <td>4.636325</td>\n      <td>0.013710</td>\n      <td>-0.074604</td>\n    </tr>\n    <tr>\n      <th>gold</th>\n      <th>2023-09-11</th>\n      <td>0.055265</td>\n      <td>70.753250</td>\n      <td>0.084631</td>\n      <td>-0.050744</td>\n    </tr>\n    <tr>\n      <th>silver</th>\n      <th>2023-09-11</th>\n      <td>-0.010733</td>\n      <td>0.954580</td>\n      <td>0.096936</td>\n      <td>-0.103269</td>\n    </tr>\n    <tr>\n      <th>soybean</th>\n      <th>2023-09-11</th>\n      <td>-0.088117</td>\n      <td>31.870263</td>\n      <td>0.030203</td>\n      <td>-0.088117</td>\n    </tr>\n    <tr>\n      <th>wheat</th>\n      <th>2023-09-11</th>\n      <td>0.029212</td>\n      <td>14.287630</td>\n      <td>0.059456</td>\n      <td>-0.058006</td>\n    </tr>\n  </tbody>\n</table>\n<p>137693 rows × 4 columns</p>\n</div>"
     },
     "execution_count": 4,
     "metadata": {},
     "output_type": "execute_result"
    }
   ],
   "source": [
    "stat = calc_rolling_stat(\n",
    "    pd.concat([fx, equity, commodity, bond, inflation], axis=1), \n",
    "    month=6\n",
    ")\n",
    "stat"
   ],
   "metadata": {
    "collapsed": false,
    "ExecuteTime": {
     "end_time": "2024-02-26T00:33:21.840325Z",
     "start_time": "2024-02-26T00:33:09.718283Z"
    }
   },
   "id": "e807d86dfac21488"
  },
  {
   "cell_type": "code",
   "execution_count": 5,
   "outputs": [],
   "source": [
    "market_list = [\"bac\", \"citi\", \"iyr\", \"sp6m\", \"sp12m\", \"euro\", \"pound\", \"yen\"] + ['silver','corn', 'soybns','gold','wheat'] + [\"infl1y\", \"infl2y\", \"infl5y\", \"tr5yr\", \"tr10yr\"] \n",
    "ticker_list = [\"BAC\", \"C\", \"IYR\", \"SPY\", \"SPY\", \"GBP\", \"EUR\", \"JPY\"] + ['silver','corn1', 'soybean','gold','wheat'] + ['EXPINF1YR', 'EXPINF2YR', 'EXPINF5YR', '5YR_Price', '10YR_Price']\n",
    "stat_rename = rename_stat_df(stat, dict(zip(market_list, ticker_list)))"
   ],
   "metadata": {
    "collapsed": false,
    "ExecuteTime": {
     "end_time": "2024-02-26T00:33:21.909140Z",
     "start_time": "2024-02-26T00:33:21.841496Z"
    }
   },
   "id": "52ae76d7a037e387"
  },
  {
   "cell_type": "code",
   "execution_count": 6,
   "outputs": [],
   "source": [
    "df = merge_prob_stat(stat_rename, mpd)"
   ],
   "metadata": {
    "collapsed": false,
    "ExecuteTime": {
     "end_time": "2024-02-26T00:33:22.276793Z",
     "start_time": "2024-02-26T00:33:21.868878Z"
    }
   },
   "id": "609566ac89e71e8d"
  },
  {
   "cell_type": "code",
   "execution_count": 7,
   "outputs": [
    {
     "name": "stdout",
     "output_type": "stream",
     "text": [
      "Kupiec POF Test Statistic: 1.956809788230622\n",
      "P-Value: 0.1618549171960425\n"
     ]
    }
   ],
   "source": [
    "import numpy as np\n",
    "from scipy.stats import chi2\n",
    "\n",
    "def kupiec_pof_test(total_observations, exceedances, confidence_level: float = 0.99):\n",
    "    \"\"\"\n",
    "    Calculate the Kupiec POF test statistic.\n",
    "\n",
    "    Parameters:\n",
    "    total_observations (int): Total number of observations in the dataset.\n",
    "    exceedances (int): Number of observed exceedances (VaR failures).\n",
    "    confidence_level (float): The confidence level used for the VaR calculation (e.g., 0.99 for 99%).\n",
    "\n",
    "    Returns:\n",
    "    float: The Kupiec POF test statistic.\n",
    "    float: The p-value from the chi-squared distribution.\n",
    "    \"\"\"\n",
    "    # Probability of exceedance\n",
    "    p = 1 - confidence_level\n",
    "\n",
    "    # Expected number of exceedances\n",
    "    expected_exceedances = total_observations * p\n",
    "\n",
    "    # Actual proportion of exceedances\n",
    "    proportion_exceedances = exceedances / total_observations\n",
    "\n",
    "    # Kupiec test statistic\n",
    "    LR_POF = -2 * np.log(((1 - p) ** (total_observations - exceedances)) * (p ** exceedances)) + 2 * np.log(((1 - proportion_exceedances) ** (total_observations - exceedances)) * (proportion_exceedances ** exceedances))\n",
    "\n",
    "    # Calculate the p-value\n",
    "    p_value = 1 - chi2.cdf(LR_POF, 1)\n",
    "\n",
    "    return LR_POF, p_value\n",
    "\n",
    "# Example usage\n",
    "total_observations = 250  # Total number of days in the dataset\n",
    "exceedances = 5  # Number of days when the loss exceeded the VaR\n",
    "confidence_level = 0.99  # 99% confidence level\n",
    "\n",
    "LR_POF, p_value = kupiec_pof_test(total_observations, exceedances, confidence_level)\n",
    "\n",
    "print(f\"Kupiec POF Test Statistic: {LR_POF}\")\n",
    "print(f\"P-Value: {p_value}\")"
   ],
   "metadata": {
    "collapsed": false,
    "ExecuteTime": {
     "end_time": "2024-02-26T00:33:22.282936Z",
     "start_time": "2024-02-26T00:33:22.280047Z"
    }
   },
   "id": "4a1d68da5f7ba8bf"
  },
  {
   "cell_type": "code",
   "execution_count": 8,
   "outputs": [
    {
     "name": "stderr",
     "output_type": "stream",
     "text": [
      "/Users/claircui/anaconda3/lib/python3.11/site-packages/pandas/core/arraylike.py:396: RuntimeWarning: divide by zero encountered in log\n",
      "  result = getattr(ufunc, method)(*inputs, **kwargs)\n",
      "/Users/claircui/anaconda3/lib/python3.11/site-packages/pandas/core/arraylike.py:396: RuntimeWarning: divide by zero encountered in log\n",
      "  result = getattr(ufunc, method)(*inputs, **kwargs)\n",
      "/Users/claircui/anaconda3/lib/python3.11/site-packages/pandas/core/arraylike.py:396: RuntimeWarning: divide by zero encountered in log\n",
      "  result = getattr(ufunc, method)(*inputs, **kwargs)\n",
      "/Users/claircui/anaconda3/lib/python3.11/site-packages/pandas/core/arraylike.py:396: RuntimeWarning: divide by zero encountered in log\n",
      "  result = getattr(ufunc, method)(*inputs, **kwargs)\n",
      "/Users/claircui/anaconda3/lib/python3.11/site-packages/pandas/core/arraylike.py:396: RuntimeWarning: divide by zero encountered in log\n",
      "  result = getattr(ufunc, method)(*inputs, **kwargs)\n",
      "/Users/claircui/anaconda3/lib/python3.11/site-packages/pandas/core/arraylike.py:396: RuntimeWarning: divide by zero encountered in log\n",
      "  result = getattr(ufunc, method)(*inputs, **kwargs)\n",
      "/Users/claircui/anaconda3/lib/python3.11/site-packages/pandas/core/arraylike.py:396: RuntimeWarning: divide by zero encountered in log\n",
      "  result = getattr(ufunc, method)(*inputs, **kwargs)\n",
      "/Users/claircui/anaconda3/lib/python3.11/site-packages/pandas/core/arraylike.py:396: RuntimeWarning: divide by zero encountered in log\n",
      "  result = getattr(ufunc, method)(*inputs, **kwargs)\n",
      "/Users/claircui/anaconda3/lib/python3.11/site-packages/pandas/core/arraylike.py:396: RuntimeWarning: divide by zero encountered in log\n",
      "  result = getattr(ufunc, method)(*inputs, **kwargs)\n",
      "/Users/claircui/anaconda3/lib/python3.11/site-packages/pandas/core/arraylike.py:396: RuntimeWarning: divide by zero encountered in log\n",
      "  result = getattr(ufunc, method)(*inputs, **kwargs)\n",
      "/Users/claircui/anaconda3/lib/python3.11/site-packages/pandas/core/arraylike.py:396: RuntimeWarning: divide by zero encountered in log\n",
      "  result = getattr(ufunc, method)(*inputs, **kwargs)\n",
      "/Users/claircui/anaconda3/lib/python3.11/site-packages/pandas/core/arraylike.py:396: RuntimeWarning: divide by zero encountered in log\n",
      "  result = getattr(ufunc, method)(*inputs, **kwargs)\n",
      "/Users/claircui/anaconda3/lib/python3.11/site-packages/pandas/core/arraylike.py:396: RuntimeWarning: divide by zero encountered in log\n",
      "  result = getattr(ufunc, method)(*inputs, **kwargs)\n",
      "/Users/claircui/anaconda3/lib/python3.11/site-packages/pandas/core/arraylike.py:396: RuntimeWarning: divide by zero encountered in log\n",
      "  result = getattr(ufunc, method)(*inputs, **kwargs)\n",
      "/Users/claircui/anaconda3/lib/python3.11/site-packages/pandas/core/arraylike.py:396: RuntimeWarning: divide by zero encountered in log\n",
      "  result = getattr(ufunc, method)(*inputs, **kwargs)\n",
      "/Users/claircui/anaconda3/lib/python3.11/site-packages/pandas/core/arraylike.py:396: RuntimeWarning: divide by zero encountered in log\n",
      "  result = getattr(ufunc, method)(*inputs, **kwargs)\n",
      "/Users/claircui/anaconda3/lib/python3.11/site-packages/pandas/core/arraylike.py:396: RuntimeWarning: divide by zero encountered in log\n",
      "  result = getattr(ufunc, method)(*inputs, **kwargs)\n",
      "/Users/claircui/anaconda3/lib/python3.11/site-packages/pandas/core/arraylike.py:396: RuntimeWarning: divide by zero encountered in log\n",
      "  result = getattr(ufunc, method)(*inputs, **kwargs)\n"
     ]
    },
    {
     "data": {
      "text/plain": "       hit_ratio                     kupiec_stat                          \\\n         p10_hit   p50_hit   p90_hit     p10_hit     p50_hit     p90_hit   \nbac     0.877076  0.586379  0.209302         inf         inf  552.381680   \nciti    0.901993  0.528239  0.162791         inf         inf  377.844635   \niyr     0.941924  0.627949  0.161525         inf         inf  341.714277   \nsp6m    0.977712  0.619614  0.020802         inf         inf    6.049118   \nsp12m   0.991085  0.566122  0.000000         inf         inf   13.527752   \neuro    0.903169  0.503521  0.213028         inf         inf  535.054949   \npound   0.943662  0.552817  0.160211         inf         inf  347.866225   \nyen     0.917254  0.577465  0.198944         inf         inf  483.124634   \nsilver  0.957935  0.443595  0.072658         inf         inf   87.300521   \ncorn    0.967619  0.481905  0.043810         inf         inf   33.067444   \nsoybns  0.960076  0.513308  0.076046         inf         inf   95.190804   \ngold    0.975285  0.587452  0.076046         inf         inf   95.190804   \nwheat   0.986692  0.528517  0.041825         inf         inf   30.024097   \ninfl1y  0.452436  0.452436  0.450116         inf         inf         inf   \ninfl2y  0.570175  0.342105  0.318713         inf  642.715812  580.497771   \ninfl5y  0.407738  0.385417  0.336310         inf         inf         inf   \ntr5yr   0.856540  0.453586  0.158228         inf         inf  284.785583   \ntr10yr  0.815261  0.451807  0.164659         inf         inf  318.084206   \n\n       kupiec_pvalue                     \n                   0    1             2  \nbac              0.0  0.0  0.000000e+00  \nciti             0.0  0.0  0.000000e+00  \niyr              0.0  0.0  0.000000e+00  \nsp6m             0.0  0.0  1.391325e-02  \nsp12m            0.0  0.0  2.350614e-04  \neuro             0.0  0.0  0.000000e+00  \npound            0.0  0.0  0.000000e+00  \nyen              0.0  0.0  0.000000e+00  \nsilver           0.0  0.0  0.000000e+00  \ncorn             0.0  0.0  8.901680e-09  \nsoybns           0.0  0.0  0.000000e+00  \ngold             0.0  0.0  0.000000e+00  \nwheat            0.0  0.0  4.267105e-08  \ninfl1y           0.0  0.0  0.000000e+00  \ninfl2y           0.0  0.0  0.000000e+00  \ninfl5y           0.0  0.0  0.000000e+00  \ntr5yr            0.0  0.0  0.000000e+00  \ntr10yr           0.0  0.0  0.000000e+00  ",
      "text/html": "<div>\n<style scoped>\n    .dataframe tbody tr th:only-of-type {\n        vertical-align: middle;\n    }\n\n    .dataframe tbody tr th {\n        vertical-align: top;\n    }\n\n    .dataframe thead tr th {\n        text-align: left;\n    }\n</style>\n<table border=\"1\" class=\"dataframe\">\n  <thead>\n    <tr>\n      <th></th>\n      <th colspan=\"3\" halign=\"left\">hit_ratio</th>\n      <th colspan=\"3\" halign=\"left\">kupiec_stat</th>\n      <th colspan=\"3\" halign=\"left\">kupiec_pvalue</th>\n    </tr>\n    <tr>\n      <th></th>\n      <th>p10_hit</th>\n      <th>p50_hit</th>\n      <th>p90_hit</th>\n      <th>p10_hit</th>\n      <th>p50_hit</th>\n      <th>p90_hit</th>\n      <th>0</th>\n      <th>1</th>\n      <th>2</th>\n    </tr>\n  </thead>\n  <tbody>\n    <tr>\n      <th>bac</th>\n      <td>0.877076</td>\n      <td>0.586379</td>\n      <td>0.209302</td>\n      <td>inf</td>\n      <td>inf</td>\n      <td>552.381680</td>\n      <td>0.0</td>\n      <td>0.0</td>\n      <td>0.000000e+00</td>\n    </tr>\n    <tr>\n      <th>citi</th>\n      <td>0.901993</td>\n      <td>0.528239</td>\n      <td>0.162791</td>\n      <td>inf</td>\n      <td>inf</td>\n      <td>377.844635</td>\n      <td>0.0</td>\n      <td>0.0</td>\n      <td>0.000000e+00</td>\n    </tr>\n    <tr>\n      <th>iyr</th>\n      <td>0.941924</td>\n      <td>0.627949</td>\n      <td>0.161525</td>\n      <td>inf</td>\n      <td>inf</td>\n      <td>341.714277</td>\n      <td>0.0</td>\n      <td>0.0</td>\n      <td>0.000000e+00</td>\n    </tr>\n    <tr>\n      <th>sp6m</th>\n      <td>0.977712</td>\n      <td>0.619614</td>\n      <td>0.020802</td>\n      <td>inf</td>\n      <td>inf</td>\n      <td>6.049118</td>\n      <td>0.0</td>\n      <td>0.0</td>\n      <td>1.391325e-02</td>\n    </tr>\n    <tr>\n      <th>sp12m</th>\n      <td>0.991085</td>\n      <td>0.566122</td>\n      <td>0.000000</td>\n      <td>inf</td>\n      <td>inf</td>\n      <td>13.527752</td>\n      <td>0.0</td>\n      <td>0.0</td>\n      <td>2.350614e-04</td>\n    </tr>\n    <tr>\n      <th>euro</th>\n      <td>0.903169</td>\n      <td>0.503521</td>\n      <td>0.213028</td>\n      <td>inf</td>\n      <td>inf</td>\n      <td>535.054949</td>\n      <td>0.0</td>\n      <td>0.0</td>\n      <td>0.000000e+00</td>\n    </tr>\n    <tr>\n      <th>pound</th>\n      <td>0.943662</td>\n      <td>0.552817</td>\n      <td>0.160211</td>\n      <td>inf</td>\n      <td>inf</td>\n      <td>347.866225</td>\n      <td>0.0</td>\n      <td>0.0</td>\n      <td>0.000000e+00</td>\n    </tr>\n    <tr>\n      <th>yen</th>\n      <td>0.917254</td>\n      <td>0.577465</td>\n      <td>0.198944</td>\n      <td>inf</td>\n      <td>inf</td>\n      <td>483.124634</td>\n      <td>0.0</td>\n      <td>0.0</td>\n      <td>0.000000e+00</td>\n    </tr>\n    <tr>\n      <th>silver</th>\n      <td>0.957935</td>\n      <td>0.443595</td>\n      <td>0.072658</td>\n      <td>inf</td>\n      <td>inf</td>\n      <td>87.300521</td>\n      <td>0.0</td>\n      <td>0.0</td>\n      <td>0.000000e+00</td>\n    </tr>\n    <tr>\n      <th>corn</th>\n      <td>0.967619</td>\n      <td>0.481905</td>\n      <td>0.043810</td>\n      <td>inf</td>\n      <td>inf</td>\n      <td>33.067444</td>\n      <td>0.0</td>\n      <td>0.0</td>\n      <td>8.901680e-09</td>\n    </tr>\n    <tr>\n      <th>soybns</th>\n      <td>0.960076</td>\n      <td>0.513308</td>\n      <td>0.076046</td>\n      <td>inf</td>\n      <td>inf</td>\n      <td>95.190804</td>\n      <td>0.0</td>\n      <td>0.0</td>\n      <td>0.000000e+00</td>\n    </tr>\n    <tr>\n      <th>gold</th>\n      <td>0.975285</td>\n      <td>0.587452</td>\n      <td>0.076046</td>\n      <td>inf</td>\n      <td>inf</td>\n      <td>95.190804</td>\n      <td>0.0</td>\n      <td>0.0</td>\n      <td>0.000000e+00</td>\n    </tr>\n    <tr>\n      <th>wheat</th>\n      <td>0.986692</td>\n      <td>0.528517</td>\n      <td>0.041825</td>\n      <td>inf</td>\n      <td>inf</td>\n      <td>30.024097</td>\n      <td>0.0</td>\n      <td>0.0</td>\n      <td>4.267105e-08</td>\n    </tr>\n    <tr>\n      <th>infl1y</th>\n      <td>0.452436</td>\n      <td>0.452436</td>\n      <td>0.450116</td>\n      <td>inf</td>\n      <td>inf</td>\n      <td>inf</td>\n      <td>0.0</td>\n      <td>0.0</td>\n      <td>0.000000e+00</td>\n    </tr>\n    <tr>\n      <th>infl2y</th>\n      <td>0.570175</td>\n      <td>0.342105</td>\n      <td>0.318713</td>\n      <td>inf</td>\n      <td>642.715812</td>\n      <td>580.497771</td>\n      <td>0.0</td>\n      <td>0.0</td>\n      <td>0.000000e+00</td>\n    </tr>\n    <tr>\n      <th>infl5y</th>\n      <td>0.407738</td>\n      <td>0.385417</td>\n      <td>0.336310</td>\n      <td>inf</td>\n      <td>inf</td>\n      <td>inf</td>\n      <td>0.0</td>\n      <td>0.0</td>\n      <td>0.000000e+00</td>\n    </tr>\n    <tr>\n      <th>tr5yr</th>\n      <td>0.856540</td>\n      <td>0.453586</td>\n      <td>0.158228</td>\n      <td>inf</td>\n      <td>inf</td>\n      <td>284.785583</td>\n      <td>0.0</td>\n      <td>0.0</td>\n      <td>0.000000e+00</td>\n    </tr>\n    <tr>\n      <th>tr10yr</th>\n      <td>0.815261</td>\n      <td>0.451807</td>\n      <td>0.164659</td>\n      <td>inf</td>\n      <td>inf</td>\n      <td>318.084206</td>\n      <td>0.0</td>\n      <td>0.0</td>\n      <td>0.000000e+00</td>\n    </tr>\n  </tbody>\n</table>\n</div>"
     },
     "execution_count": 8,
     "metadata": {},
     "output_type": "execute_result"
    }
   ],
   "source": [
    "def calc_hit_rate(df: pd.DataFrame, idx: list[str] = market_list):\n",
    "    p_col = [\"p10\", \"p50\", \"p90\"]\n",
    "    for c in p_col:\n",
    "        df.loc[:, f\"{c}_hit\"] = df[c] < df[\"ret\"]\n",
    "        \n",
    "    hit_ratio = {}\n",
    "    k_test = {}\n",
    "    k_pvalue = {}\n",
    "    for name, g in df.filter(regex=\"_hit$\").groupby(\"market\"):\n",
    "        hit_ratio[name] = g.mean()\n",
    "        k_test[name], k_pvalue[name] = kupiec_pof_test(len(g), g.sum())\n",
    "    \n",
    "    \n",
    "    df = pd.concat([pd.DataFrame(hit_ratio), \n",
    "                    pd.DataFrame(k_test), \n",
    "                    pd.DataFrame(k_pvalue)], keys=[\"hit_ratio\", \"kupiec_stat\", \"kupiec_pvalue\"]).T\n",
    "    return df.reindex(idx)\n",
    "\n",
    "calc_hit_rate(df)"
   ],
   "metadata": {
    "collapsed": false,
    "ExecuteTime": {
     "end_time": "2024-02-26T00:33:22.331611Z",
     "start_time": "2024-02-26T00:33:22.284523Z"
    }
   },
   "id": "9cfc658fcb03f967"
  },
  {
   "cell_type": "code",
   "execution_count": 11,
   "outputs": [
    {
     "name": "stderr",
     "output_type": "stream",
     "text": [
      "/Users/claircui/anaconda3/lib/python3.11/site-packages/pandas/core/arraylike.py:396: RuntimeWarning: divide by zero encountered in log\n",
      "  result = getattr(ufunc, method)(*inputs, **kwargs)\n",
      "/Users/claircui/anaconda3/lib/python3.11/site-packages/pandas/core/arraylike.py:396: RuntimeWarning: divide by zero encountered in log\n",
      "  result = getattr(ufunc, method)(*inputs, **kwargs)\n",
      "/Users/claircui/anaconda3/lib/python3.11/site-packages/pandas/core/arraylike.py:396: RuntimeWarning: divide by zero encountered in log\n",
      "  result = getattr(ufunc, method)(*inputs, **kwargs)\n",
      "/Users/claircui/anaconda3/lib/python3.11/site-packages/pandas/core/arraylike.py:396: RuntimeWarning: divide by zero encountered in log\n",
      "  result = getattr(ufunc, method)(*inputs, **kwargs)\n",
      "/Users/claircui/anaconda3/lib/python3.11/site-packages/pandas/core/arraylike.py:396: RuntimeWarning: divide by zero encountered in log\n",
      "  result = getattr(ufunc, method)(*inputs, **kwargs)\n",
      "/Users/claircui/anaconda3/lib/python3.11/site-packages/pandas/core/arraylike.py:396: RuntimeWarning: divide by zero encountered in log\n",
      "  result = getattr(ufunc, method)(*inputs, **kwargs)\n",
      "/Users/claircui/anaconda3/lib/python3.11/site-packages/pandas/core/arraylike.py:396: RuntimeWarning: divide by zero encountered in log\n",
      "  result = getattr(ufunc, method)(*inputs, **kwargs)\n",
      "/Users/claircui/anaconda3/lib/python3.11/site-packages/pandas/core/arraylike.py:396: RuntimeWarning: divide by zero encountered in log\n",
      "  result = getattr(ufunc, method)(*inputs, **kwargs)\n",
      "/Users/claircui/anaconda3/lib/python3.11/site-packages/pandas/core/arraylike.py:396: RuntimeWarning: divide by zero encountered in log\n",
      "  result = getattr(ufunc, method)(*inputs, **kwargs)\n",
      "/Users/claircui/anaconda3/lib/python3.11/site-packages/pandas/core/arraylike.py:396: RuntimeWarning: divide by zero encountered in log\n",
      "  result = getattr(ufunc, method)(*inputs, **kwargs)\n",
      "/Users/claircui/anaconda3/lib/python3.11/site-packages/pandas/core/arraylike.py:396: RuntimeWarning: divide by zero encountered in log\n",
      "  result = getattr(ufunc, method)(*inputs, **kwargs)\n",
      "/Users/claircui/anaconda3/lib/python3.11/site-packages/pandas/core/arraylike.py:396: RuntimeWarning: divide by zero encountered in log\n",
      "  result = getattr(ufunc, method)(*inputs, **kwargs)\n",
      "/Users/claircui/anaconda3/lib/python3.11/site-packages/pandas/core/arraylike.py:396: RuntimeWarning: divide by zero encountered in log\n",
      "  result = getattr(ufunc, method)(*inputs, **kwargs)\n",
      "/Users/claircui/anaconda3/lib/python3.11/site-packages/pandas/core/arraylike.py:396: RuntimeWarning: divide by zero encountered in log\n",
      "  result = getattr(ufunc, method)(*inputs, **kwargs)\n",
      "/Users/claircui/anaconda3/lib/python3.11/site-packages/pandas/core/arraylike.py:396: RuntimeWarning: divide by zero encountered in log\n",
      "  result = getattr(ufunc, method)(*inputs, **kwargs)\n",
      "/Users/claircui/anaconda3/lib/python3.11/site-packages/pandas/core/arraylike.py:396: RuntimeWarning: divide by zero encountered in log\n",
      "  result = getattr(ufunc, method)(*inputs, **kwargs)\n",
      "/Users/claircui/anaconda3/lib/python3.11/site-packages/pandas/core/arraylike.py:396: RuntimeWarning: divide by zero encountered in log\n",
      "  result = getattr(ufunc, method)(*inputs, **kwargs)\n",
      "/Users/claircui/anaconda3/lib/python3.11/site-packages/pandas/core/arraylike.py:396: RuntimeWarning: divide by zero encountered in log\n",
      "  result = getattr(ufunc, method)(*inputs, **kwargs)\n"
     ]
    }
   ],
   "source": [
    "calc_hit_rate(df).to_csv(\"unconditional_test.csv\")"
   ],
   "metadata": {
    "collapsed": false,
    "ExecuteTime": {
     "end_time": "2024-02-26T00:33:52.201896Z",
     "start_time": "2024-02-26T00:33:52.065864Z"
    }
   },
   "id": "128d95a7028c65f2"
  },
  {
   "cell_type": "code",
   "execution_count": 10,
   "outputs": [
    {
     "data": {
      "text/plain": "DatetimeIndex(['2010-01-15', '2010-01-29', '2010-02-12', '2010-02-26',\n               '2010-03-15', '2010-03-31', '2010-04-15', '2010-04-30',\n               '2010-05-14', '2010-05-28',\n               ...\n               '2009-07-15', '2009-07-31', '2009-08-14', '2009-08-31',\n               '2009-09-15', '2009-09-30', '2009-10-30', '2009-11-13',\n               '2009-11-30', '2009-12-15'],\n              dtype='datetime64[ns]', name='idt', length=877, freq=None)"
     },
     "execution_count": 10,
     "metadata": {},
     "output_type": "execute_result"
    }
   ],
   "source": [
    "df.index.get_level_values(\"idt\").unique()"
   ],
   "metadata": {
    "collapsed": false,
    "ExecuteTime": {
     "end_time": "2024-02-26T00:33:22.467559Z",
     "start_time": "2024-02-26T00:33:22.452723Z"
    }
   },
   "id": "c70373172d540e47"
  },
  {
   "cell_type": "code",
   "execution_count": 12,
   "outputs": [
    {
     "name": "stderr",
     "output_type": "stream",
     "text": [
      "/Users/claircui/anaconda3/lib/python3.11/site-packages/pandas/core/arraylike.py:396: RuntimeWarning: divide by zero encountered in log\n",
      "  result = getattr(ufunc, method)(*inputs, **kwargs)\n",
      "/Users/claircui/anaconda3/lib/python3.11/site-packages/pandas/core/arraylike.py:396: RuntimeWarning: divide by zero encountered in log\n",
      "  result = getattr(ufunc, method)(*inputs, **kwargs)\n",
      "/Users/claircui/anaconda3/lib/python3.11/site-packages/pandas/core/arraylike.py:396: RuntimeWarning: divide by zero encountered in log\n",
      "  result = getattr(ufunc, method)(*inputs, **kwargs)\n",
      "/Users/claircui/anaconda3/lib/python3.11/site-packages/pandas/core/arraylike.py:396: RuntimeWarning: divide by zero encountered in log\n",
      "  result = getattr(ufunc, method)(*inputs, **kwargs)\n",
      "/Users/claircui/anaconda3/lib/python3.11/site-packages/pandas/core/arraylike.py:396: RuntimeWarning: divide by zero encountered in log\n",
      "  result = getattr(ufunc, method)(*inputs, **kwargs)\n",
      "/Users/claircui/anaconda3/lib/python3.11/site-packages/pandas/core/arraylike.py:396: RuntimeWarning: divide by zero encountered in log\n",
      "  result = getattr(ufunc, method)(*inputs, **kwargs)\n",
      "/Users/claircui/anaconda3/lib/python3.11/site-packages/pandas/core/arraylike.py:396: RuntimeWarning: divide by zero encountered in log\n",
      "  result = getattr(ufunc, method)(*inputs, **kwargs)\n",
      "/Users/claircui/anaconda3/lib/python3.11/site-packages/pandas/core/arraylike.py:396: RuntimeWarning: divide by zero encountered in log\n",
      "  result = getattr(ufunc, method)(*inputs, **kwargs)\n",
      "/Users/claircui/anaconda3/lib/python3.11/site-packages/pandas/core/arraylike.py:396: RuntimeWarning: divide by zero encountered in log\n",
      "  result = getattr(ufunc, method)(*inputs, **kwargs)\n",
      "/Users/claircui/anaconda3/lib/python3.11/site-packages/pandas/core/arraylike.py:396: RuntimeWarning: divide by zero encountered in log\n",
      "  result = getattr(ufunc, method)(*inputs, **kwargs)\n",
      "/Users/claircui/anaconda3/lib/python3.11/site-packages/pandas/core/arraylike.py:396: RuntimeWarning: divide by zero encountered in log\n",
      "  result = getattr(ufunc, method)(*inputs, **kwargs)\n",
      "/Users/claircui/anaconda3/lib/python3.11/site-packages/pandas/core/arraylike.py:396: RuntimeWarning: divide by zero encountered in log\n",
      "  result = getattr(ufunc, method)(*inputs, **kwargs)\n",
      "/Users/claircui/anaconda3/lib/python3.11/site-packages/pandas/core/arraylike.py:396: RuntimeWarning: divide by zero encountered in log\n",
      "  result = getattr(ufunc, method)(*inputs, **kwargs)\n",
      "/Users/claircui/anaconda3/lib/python3.11/site-packages/pandas/core/arraylike.py:396: RuntimeWarning: divide by zero encountered in log\n",
      "  result = getattr(ufunc, method)(*inputs, **kwargs)\n",
      "/Users/claircui/anaconda3/lib/python3.11/site-packages/pandas/core/arraylike.py:396: RuntimeWarning: divide by zero encountered in log\n",
      "  result = getattr(ufunc, method)(*inputs, **kwargs)\n",
      "/Users/claircui/anaconda3/lib/python3.11/site-packages/pandas/core/arraylike.py:396: RuntimeWarning: divide by zero encountered in log\n",
      "  result = getattr(ufunc, method)(*inputs, **kwargs)\n",
      "/Users/claircui/anaconda3/lib/python3.11/site-packages/pandas/core/arraylike.py:396: RuntimeWarning: divide by zero encountered in log\n",
      "  result = getattr(ufunc, method)(*inputs, **kwargs)\n",
      "/Users/claircui/anaconda3/lib/python3.11/site-packages/pandas/core/arraylike.py:396: RuntimeWarning: divide by zero encountered in log\n",
      "  result = getattr(ufunc, method)(*inputs, **kwargs)\n"
     ]
    },
    {
     "data": {
      "text/plain": "       hit_ratio                     kupiec_stat                          \\\n         p10_hit   p50_hit   p90_hit     p10_hit     p50_hit     p90_hit   \nbac     0.877076  0.586379  0.209302         inf         inf  552.381680   \nciti    0.901993  0.528239  0.162791         inf         inf  377.844635   \niyr     0.941924  0.627949  0.161525         inf         inf  341.714277   \nsp6m    0.977712  0.619614  0.020802         inf         inf    6.049118   \nsp12m   0.991085  0.566122  0.000000         inf         inf   13.527752   \neuro    0.903169  0.503521  0.213028         inf         inf  535.054949   \npound   0.943662  0.552817  0.160211         inf         inf  347.866225   \nyen     0.917254  0.577465  0.198944         inf         inf  483.124634   \nsilver  0.957935  0.443595  0.072658         inf         inf   87.300521   \ncorn    0.967619  0.481905  0.043810         inf         inf   33.067444   \nsoybns  0.960076  0.513308  0.076046         inf         inf   95.190804   \ngold    0.975285  0.587452  0.076046         inf         inf   95.190804   \nwheat   0.986692  0.528517  0.041825         inf         inf   30.024097   \ninfl1y  0.452436  0.452436  0.450116         inf         inf         inf   \ninfl2y  0.570175  0.342105  0.318713         inf  642.715812  580.497771   \ninfl5y  0.407738  0.385417  0.336310         inf         inf         inf   \ntr5yr   0.856540  0.453586  0.158228         inf         inf  284.785583   \ntr10yr  0.815261  0.451807  0.164659         inf         inf  318.084206   \n\n       kupiec_pvalue                     \n                   0    1             2  \nbac              0.0  0.0  0.000000e+00  \nciti             0.0  0.0  0.000000e+00  \niyr              0.0  0.0  0.000000e+00  \nsp6m             0.0  0.0  1.391325e-02  \nsp12m            0.0  0.0  2.350614e-04  \neuro             0.0  0.0  0.000000e+00  \npound            0.0  0.0  0.000000e+00  \nyen              0.0  0.0  0.000000e+00  \nsilver           0.0  0.0  0.000000e+00  \ncorn             0.0  0.0  8.901680e-09  \nsoybns           0.0  0.0  0.000000e+00  \ngold             0.0  0.0  0.000000e+00  \nwheat            0.0  0.0  4.267105e-08  \ninfl1y           0.0  0.0  0.000000e+00  \ninfl2y           0.0  0.0  0.000000e+00  \ninfl5y           0.0  0.0  0.000000e+00  \ntr5yr            0.0  0.0  0.000000e+00  \ntr10yr           0.0  0.0  0.000000e+00  ",
      "text/html": "<div>\n<style scoped>\n    .dataframe tbody tr th:only-of-type {\n        vertical-align: middle;\n    }\n\n    .dataframe tbody tr th {\n        vertical-align: top;\n    }\n\n    .dataframe thead tr th {\n        text-align: left;\n    }\n</style>\n<table border=\"1\" class=\"dataframe\">\n  <thead>\n    <tr>\n      <th></th>\n      <th colspan=\"3\" halign=\"left\">hit_ratio</th>\n      <th colspan=\"3\" halign=\"left\">kupiec_stat</th>\n      <th colspan=\"3\" halign=\"left\">kupiec_pvalue</th>\n    </tr>\n    <tr>\n      <th></th>\n      <th>p10_hit</th>\n      <th>p50_hit</th>\n      <th>p90_hit</th>\n      <th>p10_hit</th>\n      <th>p50_hit</th>\n      <th>p90_hit</th>\n      <th>0</th>\n      <th>1</th>\n      <th>2</th>\n    </tr>\n  </thead>\n  <tbody>\n    <tr>\n      <th>bac</th>\n      <td>0.877076</td>\n      <td>0.586379</td>\n      <td>0.209302</td>\n      <td>inf</td>\n      <td>inf</td>\n      <td>552.381680</td>\n      <td>0.0</td>\n      <td>0.0</td>\n      <td>0.000000e+00</td>\n    </tr>\n    <tr>\n      <th>citi</th>\n      <td>0.901993</td>\n      <td>0.528239</td>\n      <td>0.162791</td>\n      <td>inf</td>\n      <td>inf</td>\n      <td>377.844635</td>\n      <td>0.0</td>\n      <td>0.0</td>\n      <td>0.000000e+00</td>\n    </tr>\n    <tr>\n      <th>iyr</th>\n      <td>0.941924</td>\n      <td>0.627949</td>\n      <td>0.161525</td>\n      <td>inf</td>\n      <td>inf</td>\n      <td>341.714277</td>\n      <td>0.0</td>\n      <td>0.0</td>\n      <td>0.000000e+00</td>\n    </tr>\n    <tr>\n      <th>sp6m</th>\n      <td>0.977712</td>\n      <td>0.619614</td>\n      <td>0.020802</td>\n      <td>inf</td>\n      <td>inf</td>\n      <td>6.049118</td>\n      <td>0.0</td>\n      <td>0.0</td>\n      <td>1.391325e-02</td>\n    </tr>\n    <tr>\n      <th>sp12m</th>\n      <td>0.991085</td>\n      <td>0.566122</td>\n      <td>0.000000</td>\n      <td>inf</td>\n      <td>inf</td>\n      <td>13.527752</td>\n      <td>0.0</td>\n      <td>0.0</td>\n      <td>2.350614e-04</td>\n    </tr>\n    <tr>\n      <th>euro</th>\n      <td>0.903169</td>\n      <td>0.503521</td>\n      <td>0.213028</td>\n      <td>inf</td>\n      <td>inf</td>\n      <td>535.054949</td>\n      <td>0.0</td>\n      <td>0.0</td>\n      <td>0.000000e+00</td>\n    </tr>\n    <tr>\n      <th>pound</th>\n      <td>0.943662</td>\n      <td>0.552817</td>\n      <td>0.160211</td>\n      <td>inf</td>\n      <td>inf</td>\n      <td>347.866225</td>\n      <td>0.0</td>\n      <td>0.0</td>\n      <td>0.000000e+00</td>\n    </tr>\n    <tr>\n      <th>yen</th>\n      <td>0.917254</td>\n      <td>0.577465</td>\n      <td>0.198944</td>\n      <td>inf</td>\n      <td>inf</td>\n      <td>483.124634</td>\n      <td>0.0</td>\n      <td>0.0</td>\n      <td>0.000000e+00</td>\n    </tr>\n    <tr>\n      <th>silver</th>\n      <td>0.957935</td>\n      <td>0.443595</td>\n      <td>0.072658</td>\n      <td>inf</td>\n      <td>inf</td>\n      <td>87.300521</td>\n      <td>0.0</td>\n      <td>0.0</td>\n      <td>0.000000e+00</td>\n    </tr>\n    <tr>\n      <th>corn</th>\n      <td>0.967619</td>\n      <td>0.481905</td>\n      <td>0.043810</td>\n      <td>inf</td>\n      <td>inf</td>\n      <td>33.067444</td>\n      <td>0.0</td>\n      <td>0.0</td>\n      <td>8.901680e-09</td>\n    </tr>\n    <tr>\n      <th>soybns</th>\n      <td>0.960076</td>\n      <td>0.513308</td>\n      <td>0.076046</td>\n      <td>inf</td>\n      <td>inf</td>\n      <td>95.190804</td>\n      <td>0.0</td>\n      <td>0.0</td>\n      <td>0.000000e+00</td>\n    </tr>\n    <tr>\n      <th>gold</th>\n      <td>0.975285</td>\n      <td>0.587452</td>\n      <td>0.076046</td>\n      <td>inf</td>\n      <td>inf</td>\n      <td>95.190804</td>\n      <td>0.0</td>\n      <td>0.0</td>\n      <td>0.000000e+00</td>\n    </tr>\n    <tr>\n      <th>wheat</th>\n      <td>0.986692</td>\n      <td>0.528517</td>\n      <td>0.041825</td>\n      <td>inf</td>\n      <td>inf</td>\n      <td>30.024097</td>\n      <td>0.0</td>\n      <td>0.0</td>\n      <td>4.267105e-08</td>\n    </tr>\n    <tr>\n      <th>infl1y</th>\n      <td>0.452436</td>\n      <td>0.452436</td>\n      <td>0.450116</td>\n      <td>inf</td>\n      <td>inf</td>\n      <td>inf</td>\n      <td>0.0</td>\n      <td>0.0</td>\n      <td>0.000000e+00</td>\n    </tr>\n    <tr>\n      <th>infl2y</th>\n      <td>0.570175</td>\n      <td>0.342105</td>\n      <td>0.318713</td>\n      <td>inf</td>\n      <td>642.715812</td>\n      <td>580.497771</td>\n      <td>0.0</td>\n      <td>0.0</td>\n      <td>0.000000e+00</td>\n    </tr>\n    <tr>\n      <th>infl5y</th>\n      <td>0.407738</td>\n      <td>0.385417</td>\n      <td>0.336310</td>\n      <td>inf</td>\n      <td>inf</td>\n      <td>inf</td>\n      <td>0.0</td>\n      <td>0.0</td>\n      <td>0.000000e+00</td>\n    </tr>\n    <tr>\n      <th>tr5yr</th>\n      <td>0.856540</td>\n      <td>0.453586</td>\n      <td>0.158228</td>\n      <td>inf</td>\n      <td>inf</td>\n      <td>284.785583</td>\n      <td>0.0</td>\n      <td>0.0</td>\n      <td>0.000000e+00</td>\n    </tr>\n    <tr>\n      <th>tr10yr</th>\n      <td>0.815261</td>\n      <td>0.451807</td>\n      <td>0.164659</td>\n      <td>inf</td>\n      <td>inf</td>\n      <td>318.084206</td>\n      <td>0.0</td>\n      <td>0.0</td>\n      <td>0.000000e+00</td>\n    </tr>\n  </tbody>\n</table>\n</div>"
     },
     "execution_count": 12,
     "metadata": {},
     "output_type": "execute_result"
    }
   ],
   "source": [
    "calc_hit_rate(df)"
   ],
   "metadata": {
    "collapsed": false,
    "ExecuteTime": {
     "end_time": "2024-02-26T00:50:12.120869Z",
     "start_time": "2024-02-26T00:50:12.018396Z"
    }
   },
   "id": "f02a8701d143525"
  },
  {
   "cell_type": "code",
   "execution_count": null,
   "outputs": [],
   "source": [],
   "metadata": {
    "collapsed": false
   },
   "id": "1881e7043a519ec4"
  }
 ],
 "metadata": {
  "kernelspec": {
   "display_name": "Python 3",
   "language": "python",
   "name": "python3"
  },
  "language_info": {
   "codemirror_mode": {
    "name": "ipython",
    "version": 2
   },
   "file_extension": ".py",
   "mimetype": "text/x-python",
   "name": "python",
   "nbconvert_exporter": "python",
   "pygments_lexer": "ipython2",
   "version": "2.7.6"
  }
 },
 "nbformat": 4,
 "nbformat_minor": 5
}
