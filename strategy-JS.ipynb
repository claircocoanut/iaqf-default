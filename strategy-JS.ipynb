{
 "cells": [
  {
   "cell_type": "code",
   "execution_count": 105,
   "id": "d00f2efa",
   "metadata": {},
   "outputs": [],
   "source": [
    "from itertools import product\n",
    "\n",
    "import pandas as pd\n",
    "import numpy as np\n",
    "import matplotlib.pyplot as plt\n",
    "from matplotlib import colors\n",
    "from itertools import combinations\n",
    "from download_data import download_price_data\n",
    "from sklearn.linear_model import LinearRegression\n",
    "\n",
    "import warnings\n",
    "warnings.filterwarnings('ignore')"
   ]
  },
  {
   "cell_type": "markdown",
   "id": "a9fc2182",
   "metadata": {},
   "source": [
    "get MPD data"
   ]
  },
  {
   "cell_type": "code",
   "execution_count": 106,
   "id": "3806aac1",
   "metadata": {},
   "outputs": [],
   "source": [
    "data = pd.read_csv(\"../data/mpd_stats.csv\")\n",
    "ticker_def = pd.read_csv(\"../data/ticker_def.csv\", index_col=[\"ticker\"])\n",
    "\n",
    "data = data.merge(ticker_def, left_on=[\"market\"], right_index=True, how=\"left\")\n",
    "data[\"idt\"] = pd.to_datetime(data[\"idt\"])\n",
    "# data.set_index([\"market\", \"idt\"], inplace=True\n",
    "\n",
    "equity = data.loc[data[\"type\"].isin([\"equity\", \"equity_idx\"])]\n",
    "tickers = equity[\"market\"].unique()"
   ]
  },
  {
   "cell_type": "markdown",
   "id": "d5f63521",
   "metadata": {},
   "source": [
    "get close price"
   ]
  },
  {
   "cell_type": "code",
   "execution_count": 107,
   "id": "2cd0b246",
   "metadata": {},
   "outputs": [],
   "source": [
    "price_df_list = []\n",
    "start_date, end_date = equity[\"idt\"].min(), equity[\"idt\"].max()\n",
    "for t in [[\"BAC\", \"C\"], [\"IYR\", \"SPY\"]]:\n",
    "    price_df = download_price_data(tickers=t,     \n",
    "                                   start_date=start_date, end_date=end_date)\n",
    "    price_df_list.append(price_df)\n",
    "    \n",
    "price_df = pd.concat(price_df_list, axis=1)\n",
    "close = price_df[\"adj_close\"]"
   ]
  },
  {
   "cell_type": "code",
   "execution_count": 108,
   "id": "e5cfce7c",
   "metadata": {},
   "outputs": [],
   "source": [
    "log_ret = pd.DataFrame(index=close.index)\n",
    "for t, m, prob_name in [(\"BAC\", 3, \"bac\"), \n",
    "                        (\"C\", 3, \"citi\"), \n",
    "                        (\"IYR\", 3, \"iyr\"), \n",
    "                        (\"SPY\", 6, \"sp6m\"), \n",
    "                        (\"SPY\", 12, \"sp12m\")]:\n",
    "    close_shift = close.copy()\n",
    "    close_shift.index = close_shift.index - pd.DateOffset(months=m)\n",
    "    close_shift = close_shift.reset_index().drop_duplicates(subset=\"date\", keep='last').set_index(\"date\")\n",
    "    idx = close_shift.index.intersection(close.index)\n",
    "    log_ret.loc[:, prob_name] = np.log(close_shift.loc[idx, t].ffill() / close.loc[idx, t])\n",
    "    \n"
   ]
  },
  {
   "cell_type": "code",
   "execution_count": 109,
   "id": "572694d2",
   "metadata": {},
   "outputs": [],
   "source": [
    "close = close.reset_index().melt(id_vars=['date'], var_name='ticker', value_name='price')\n",
    "for t, m, prob_name in [(\"BAC\", 3, \"bac\"), \n",
    "                        (\"C\", 3, \"citi\"), \n",
    "                        (\"IYR\", 3, \"iyr\"), \n",
    "                        (\"SPY\", 6, \"sp6m\")]:\n",
    "    close.loc[close[close['ticker']==t].index,'ticker'] = prob_name"
   ]
  },
  {
   "cell_type": "markdown",
   "id": "379d336e",
   "metadata": {},
   "source": [
    "# Strategy"
   ]
  },
  {
   "cell_type": "markdown",
   "id": "1a364b9c",
   "metadata": {},
   "source": [
    "**select indicators as factors(find 5 indicators with the least correlations for each ticker)**\n",
    "\n",
    "For the trade on SPY, here I use only the data of sp6m\n",
    "\n",
    "For each day, do a rolling regression. Regress the return of the ticker on the value of the 5 factors. And use the predicted value to be the next day's investment.\n",
    "\n",
    "After we make the regressions on all the tickers. We got the investment on each ticker every day. Then rescale it to make the absolute value add up to 1. The rescaled value will be the weight(or position) on that ticker on that day."
   ]
  },
  {
   "cell_type": "code",
   "execution_count": 164,
   "id": "02b17880",
   "metadata": {},
   "outputs": [],
   "source": [
    "equity = equity.rename(columns={'idt':'date','market':'ticker'})\n",
    "equity = equity[equity['ticker']!='sp12m']\n",
    "\n",
    "all_data = pd.merge(close,equity,on=['ticker','date'],how='left')\n",
    "all_data = all_data.fillna(method='ffill')\n",
    "all_data = all_data.drop(['name','type'],axis=1)\n",
    "all_data = all_data.sort_values(by=['ticker','date'])\n",
    "\n",
    "all_data['ret'] = all_data.groupby('ticker')['price'].pct_change()\n",
    "all_data = all_data.dropna()\n",
    "tickers = tickers[tickers != 'sp12m']"
   ]
  },
  {
   "cell_type": "code",
   "execution_count": 165,
   "id": "591ddc59",
   "metadata": {},
   "outputs": [
    {
     "data": {
      "text/plain": [
       "{'bac': ('mu', 'skew', 'kurt', 'p50', 'p90'),\n",
       " 'citi': ('mu', 'skew', 'kurt', 'p50', 'prInc'),\n",
       " 'iyr': ('mu', 'sd', 'skew', 'kurt', 'prInc'),\n",
       " 'sp6m': ('mu', 'sd', 'skew', 'kurt', 'p50')}"
      ]
     },
     "execution_count": 165,
     "metadata": {},
     "output_type": "execute_result"
    }
   ],
   "source": [
    "def find_least_correlated_vars(corr_matrix, num_vars=5):\n",
    "    corr_tuples = [(i, j, corr_matrix.loc[i, j])\n",
    "                   for i in corr_matrix.columns \n",
    "                   for j in corr_matrix.columns \n",
    "                   if i < j]\n",
    "\n",
    "    sorted_corr = sorted(corr_tuples, key=lambda x: abs(x[2]))\n",
    "\n",
    "    vars_combinations = combinations(corr_matrix.columns, num_vars)\n",
    "\n",
    "    min_corr_value = float('inf')\n",
    "    best_combination = None\n",
    "\n",
    "    for combo in vars_combinations:\n",
    "        pairs = combinations(combo, 2)\n",
    "        avg_corr = np.mean([abs(corr_matrix.at[pair[0], pair[1]]) for pair in pairs])\n",
    "        if avg_corr < min_corr_value:\n",
    "            min_corr_value = avg_corr\n",
    "            best_combination = combo\n",
    "\n",
    "    return best_combination\n",
    "\n",
    "\n",
    "factors = {}\n",
    "indicators = equity.drop(['ticker','date','name','type',\n",
    "                          'maturity_target','lg_change_decr','lg_change_incr'],axis=1).columns.to_list()\n",
    "for ticker in tickers:\n",
    "    corr_matrix = all_data[all_data['ticker']==ticker]\n",
    "    corr_matrix = corr_matrix[indicators].corr()\n",
    "    factors[ticker] = find_least_correlated_vars(corr_matrix)\n",
    "factors"
   ]
  },
  {
   "cell_type": "markdown",
   "id": "d9041f38",
   "metadata": {},
   "source": [
    "**factor trading strategy**"
   ]
  },
  {
   "cell_type": "code",
   "execution_count": 264,
   "id": "ab946f47",
   "metadata": {},
   "outputs": [],
   "source": [
    "def get_predicted_ret(df,window_size=100):\n",
    "\n",
    "    def rolling_regression(X, y):\n",
    "        model = LinearRegression().fit(X, y)\n",
    "        return model.predict(X.iloc[-1].values.reshape(1, -1))[0]\n",
    "\n",
    "    predicted_returns = pd.Series(index=df.index)\n",
    "\n",
    "    for start in range(len(df) - window_size):\n",
    "        end = start + window_size\n",
    "        window_df = df.iloc[start:end]\n",
    "        X = window_df[factor]\n",
    "        y = window_df['ret']\n",
    "        predicted_returns.iloc[end] = rolling_regression(X, y)\n",
    "\n",
    "    df['predicted_return'] = predicted_returns\n",
    "    \n",
    "    return df"
   ]
  },
  {
   "cell_type": "code",
   "execution_count": 265,
   "id": "e2c0c48f",
   "metadata": {},
   "outputs": [
    {
     "name": "stdout",
     "output_type": "stream",
     "text": [
      "bac\n",
      "citi\n",
      "iyr\n",
      "sp6m\n"
     ]
    }
   ],
   "source": [
    "strategy = []\n",
    "for ticker in tickers:\n",
    "    print(ticker)\n",
    "    df = all_data[all_data['ticker']==ticker]\n",
    "    factor = list(factors[ticker])\n",
    "\n",
    "    df = df.set_index('date',drop=True)\n",
    "    \n",
    "    df = get_predicted_ret(df).reset_index()\n",
    "    strategy.append(df)\n",
    "strategy = pd.concat(strategy)"
   ]
  },
  {
   "cell_type": "code",
   "execution_count": 266,
   "id": "c9a11209",
   "metadata": {},
   "outputs": [
    {
     "data": {
      "text/plain": [
       "<Axes: xlabel='date'>"
      ]
     },
     "execution_count": 266,
     "metadata": {},
     "output_type": "execute_result"
    },
    {
     "data": {
      "image/png": "[encoded data removed]",
      "text/plain": [
       "<Figure size 432x288 with 1 Axes>"
      ]
     },
     "metadata": {
      "needs_background": "light"
     },
     "output_type": "display_data"
    }
   ],
   "source": [
    "ret_df = strategy.pivot(index = 'date',columns='ticker',values = 'ret').dropna()\n",
    "position = strategy.pivot(index = 'date',columns='ticker',values = 'predicted_return').dropna()\n",
    "position['total'] = np.abs(position).sum(axis=1)\n",
    "position.loc[:,tickers] = position.loc[:,tickers].div(position['total'], axis=0)\n",
    "\n",
    "result = (ret_df*position).drop(['total'],axis=1)\n",
    "result['ret'] = result[tickers].sum(axis=1)\n",
    "result['pnl'] = np.cumprod(1+result['ret'])-1\n",
    "result = result.dropna()\n",
    "result['pnl'].plot()"
   ]
  },
  {
   "cell_type": "markdown",
   "id": "47724328",
   "metadata": {},
   "source": [
    "# Performance"
   ]
  },
  {
   "cell_type": "code",
   "execution_count": 267,
   "id": "1dbdbfc7",
   "metadata": {},
   "outputs": [],
   "source": [
    "def performance_summary(return_data):\n",
    "    \"\"\" \n",
    "        Returns the Performance Stats for given set of returns\n",
    "        Inputs: \n",
    "            return_data - DataFrame with Date index and Monthly Returns for different assets/strategies.\n",
    "        Output:\n",
    "            summary_stats - DataFrame with annualized mean return, vol, sharpe ratio. Skewness, Excess Kurtosis, Var (0.5) and\n",
    "                            CVaR (0.5) and drawdown based on monthly returns. \n",
    "    \"\"\"\n",
    "    summary_stats = return_data.mean().to_frame('Annualized Return')\n",
    "    summary_stats['Annualized Volatility'] = return_data.std()\n",
    "    summary_stats['Annualized Sharpe Ratio'] = summary_stats['Annualized Return']/summary_stats['Annualized Volatility']\n",
    "    \n",
    "    summary_stats['Skewness'] = return_data.skew()\n",
    "    summary_stats['Excess Kurtosis'] = return_data.kurtosis()\n",
    "    summary_stats['VaR (0.05)'] = return_data.quantile(.05, axis = 0)\n",
    "    summary_stats['CVaR (0.05)'] = return_data[return_data <= return_data.quantile(.05, axis = 0)].mean()\n",
    "    summary_stats['Min'] = return_data.min()\n",
    "    summary_stats['Max'] = return_data.max()\n",
    "    \n",
    "    wealth_index = 1000*(1+return_data).cumprod()\n",
    "    previous_peaks = wealth_index.cummax()\n",
    "    drawdowns = (wealth_index - previous_peaks)/previous_peaks\n",
    "\n",
    "    summary_stats['Max Drawdown'] = drawdowns.min()\n",
    "    summary_stats['Peak'] = [previous_peaks[col][:drawdowns[col].idxmin()].idxmax() for col in previous_peaks.columns]\n",
    "    summary_stats['Bottom'] = drawdowns.idxmin()\n",
    "    \n",
    "    recovery_date = []\n",
    "    for col in wealth_index.columns:\n",
    "        prev_max = previous_peaks[col][:drawdowns[col].idxmin()].max()\n",
    "        recovery_wealth = pd.DataFrame([wealth_index[col][drawdowns[col].idxmin():]]).T\n",
    "        recovery_date.append(recovery_wealth[recovery_wealth[col] >= prev_max].index.min())\n",
    "    summary_stats['Recovery'] = recovery_date\n",
    "    \n",
    "    return summary_stats"
   ]
  },
  {
   "cell_type": "code",
   "execution_count": 268,
   "id": "8e985db5",
   "metadata": {},
   "outputs": [
    {
     "data": {
      "text/html": [
       "<div>\n",
       "<style scoped>\n",
       "    .dataframe tbody tr th:only-of-type {\n",
       "        vertical-align: middle;\n",
       "    }\n",
       "\n",
       "    .dataframe tbody tr th {\n",
       "        vertical-align: top;\n",
       "    }\n",
       "\n",
       "    .dataframe thead th {\n",
       "        text-align: right;\n",
       "    }\n",
       "</style>\n",
       "<table border=\"1\" class=\"dataframe\">\n",
       "  <thead>\n",
       "    <tr style=\"text-align: right;\">\n",
       "      <th></th>\n",
       "      <th>Annualized Return</th>\n",
       "      <th>Annualized Volatility</th>\n",
       "      <th>Annualized Sharpe Ratio</th>\n",
       "      <th>Skewness</th>\n",
       "      <th>Excess Kurtosis</th>\n",
       "      <th>VaR (0.05)</th>\n",
       "      <th>CVaR (0.05)</th>\n",
       "      <th>Min</th>\n",
       "      <th>Max</th>\n",
       "      <th>Max Drawdown</th>\n",
       "      <th>Peak</th>\n",
       "      <th>Bottom</th>\n",
       "      <th>Recovery</th>\n",
       "    </tr>\n",
       "    <tr>\n",
       "      <th>ticker</th>\n",
       "      <th></th>\n",
       "      <th></th>\n",
       "      <th></th>\n",
       "      <th></th>\n",
       "      <th></th>\n",
       "      <th></th>\n",
       "      <th></th>\n",
       "      <th></th>\n",
       "      <th></th>\n",
       "      <th></th>\n",
       "      <th></th>\n",
       "      <th></th>\n",
       "      <th></th>\n",
       "    </tr>\n",
       "  </thead>\n",
       "  <tbody>\n",
       "    <tr>\n",
       "      <th>ret</th>\n",
       "      <td>0.00029</td>\n",
       "      <td>0.014062</td>\n",
       "      <td>0.020646</td>\n",
       "      <td>-0.094483</td>\n",
       "      <td>15.422542</td>\n",
       "      <td>-0.018897</td>\n",
       "      <td>-0.033492</td>\n",
       "      <td>-0.137613</td>\n",
       "      <td>0.127564</td>\n",
       "      <td>-0.483793</td>\n",
       "      <td>2020-03-23</td>\n",
       "      <td>2020-11-09</td>\n",
       "      <td>NaT</td>\n",
       "    </tr>\n",
       "  </tbody>\n",
       "</table>\n",
       "</div>"
      ],
      "text/plain": [
       "        Annualized Return  Annualized Volatility  Annualized Sharpe Ratio  \\\n",
       "ticker                                                                      \n",
       "ret               0.00029               0.014062                 0.020646   \n",
       "\n",
       "        Skewness  Excess Kurtosis  VaR (0.05)  CVaR (0.05)       Min  \\\n",
       "ticker                                                                 \n",
       "ret    -0.094483        15.422542   -0.018897    -0.033492 -0.137613   \n",
       "\n",
       "             Max  Max Drawdown       Peak     Bottom Recovery  \n",
       "ticker                                                         \n",
       "ret     0.127564     -0.483793 2020-03-23 2020-11-09      NaT  "
      ]
     },
     "execution_count": 268,
     "metadata": {},
     "output_type": "execute_result"
    }
   ],
   "source": [
    "performance_summary(result[['ret']])"
   ]
  }
 ],
 "metadata": {
  "kernelspec": {
   "display_name": "Python 3 (ipykernel)",
   "language": "python",
   "name": "python3"
  },
  "language_info": {
   "codemirror_mode": {
    "name": "ipython",
    "version": 3
   },
   "file_extension": ".py",
   "mimetype": "text/x-python",
   "name": "python",
   "nbconvert_exporter": "python",
   "pygments_lexer": "ipython3",
   "version": "3.9.12"
  }
 },
 "nbformat": 4,
 "nbformat_minor": 5
}
